{
  "nbformat": 4,
  "nbformat_minor": 0,
  "metadata": {
    "colab": {
      "provenance": []
    },
    "kernelspec": {
      "name": "python3",
      "display_name": "Python 3"
    },
    "language_info": {
      "name": "python"
    }
  },
  "cells": [
    {
      "cell_type": "code",
      "execution_count": 19,
      "metadata": {
        "id": "WOpGbFSNYr0B"
      },
      "outputs": [],
      "source": [
        "# download modsim.py if necessary\n",
        "\n",
        "from os.path import basename, exists\n",
        "\n",
        "def download(url):\n",
        "    filename = basename(url)\n",
        "    if not exists(filename):\n",
        "        from urllib.request import urlretrieve\n",
        "        local, _ = urlretrieve(url, filename)\n",
        "        print('Downloaded ' + local)\n",
        "    \n",
        "download('https://raw.githubusercontent.com/AllenDowney/' +\n",
        "         'ModSimPy/master/modsim.py')"
      ]
    },
    {
      "cell_type": "code",
      "source": [
        "from modsim import *\n",
        "import pandas as pd\n",
        "import random\n",
        "import math"
      ],
      "metadata": {
        "id": "v7hX2EzYZvXq"
      },
      "execution_count": 20,
      "outputs": []
    },
    {
      "cell_type": "code",
      "source": [
        "import matplotlib.pyplot as plt\n",
        "import seaborn as sns \n",
        "from datetime import date, datetime"
      ],
      "metadata": {
        "id": "21EyFHYEZxF0"
      },
      "execution_count": 21,
      "outputs": []
    },
    {
      "cell_type": "code",
      "source": [
        "#distancia\n",
        "sun = (0,0)\n",
        "earthDistance = 147.41\n",
        "mercuryDistance = 65.79\n",
        "venusDistance = 108.58\n",
        "marsDistance = 240.83\n",
        "jupiterDistance = 740.7\n",
        "saturnDistance = 1468300\n",
        "uranusDistance = 2940900\n",
        "neptuneDistance = 4473499"
      ],
      "metadata": {
        "id": "MQ-rPJHxZ14U"
      },
      "execution_count": 22,
      "outputs": []
    },
    {
      "cell_type": "code",
      "source": [
        "#vueltas \n",
        "martesTaken = 687\n",
        "earthTaken = 365\n",
        "mercuryTaken = 88\n",
        "venusTaken = 225\n",
        "jupiterTaken = 4337\n",
        "saturnTaken = 10767\n",
        "uranusTaken = 3660\n",
        "neptuneTaken = 60225"
      ],
      "metadata": {
        "id": "aLsGYVeXnupl"
      },
      "execution_count": 23,
      "outputs": []
    },
    {
      "cell_type": "code",
      "source": [
        "year = int(input('Enter a year: '))\n",
        "month = int(input('Enter a month: '))\n",
        "day = int(input('Enter a day: '))\n",
        "d = date(year, month, day)\n",
        "print(d)"
      ],
      "metadata": {
        "colab": {
          "base_uri": "https://localhost:8080/"
        },
        "id": "qh-r4Oweeluv",
        "outputId": "c268ecbb-36f1-4cfb-f44f-e7df19d541d2"
      },
      "execution_count": 24,
      "outputs": [
        {
          "output_type": "stream",
          "name": "stdout",
          "text": [
            "Enter a year: 2023\n",
            "Enter a month: 2\n",
            "Enter a day: 1\n",
            "2023-02-01\n"
          ]
        }
      ]
    },
    {
      "cell_type": "code",
      "source": [
        "def PosicionPlaneta(planetDistance, daysTaken, year, month, day):\n",
        "  ArcoRecorridoPorDia = (2 * math.pi* planetDistance) / daysTaken\n",
        "  fecha_Inicial = (2000, 1, 1)\n",
        "  fecha_Buscada = (year, month, day)\n",
        "\n",
        "  CantidadDia = (fecha_Buscada[0] - fecha_Inicial[0]) * 365 + \\\n",
        "            (fecha_Buscada[1] - fecha_Inicial[1]) * 30 + \\\n",
        "            (fecha_Buscada[2] - fecha_Inicial[2])\n",
        "\n",
        "  res = ArcoRecorridoPorDia * CantidadDia\n",
        "  res1 = res/360\n",
        "  res1INT = int(res1)\n",
        "  res2 = res1-res1INT\n",
        "  ResultadoFinal = 360*res2\n",
        "\n",
        "  print(\"La posicion del planeta es de:\", ResultadoFinal, \"grados\")"
      ],
      "metadata": {
        "id": "X-8DVHeobsTo"
      },
      "execution_count": 25,
      "outputs": []
    },
    {
      "cell_type": "code",
      "source": [
        "#Posicion marte\n",
        "PosicionPlaneta(marsDistance, martesTaken, year, month, day)"
      ],
      "metadata": {
        "colab": {
          "base_uri": "https://localhost:8080/"
        },
        "id": "J63f_KNUfM4X",
        "outputId": "fb90409f-782f-4560-caf6-aee63318a38d"
      },
      "execution_count": 26,
      "outputs": [
        {
          "output_type": "stream",
          "name": "stdout",
          "text": [
            "La posicion del planeta es de: 196.82304974367412 grados\n"
          ]
        }
      ]
    },
    {
      "cell_type": "code",
      "source": [
        "#Posicion tierra\n",
        "PosicionPlaneta(earthDistance, earthTaken, year, month, day)"
      ],
      "metadata": {
        "colab": {
          "base_uri": "https://localhost:8080/"
        },
        "id": "ZARThq6Yo_e_",
        "outputId": "bf63f197-4665-49c6-a562-49146386ce43"
      },
      "execution_count": 27,
      "outputs": [
        {
          "output_type": "stream",
          "name": "stdout",
          "text": [
            "La posicion del planeta es de: 138.8263456344177 grados\n"
          ]
        }
      ]
    },
    {
      "cell_type": "code",
      "source": [
        "#Posicion mercurio\n",
        "PosicionPlaneta(mercuryDistance, mercuryTaken, year, month, day)"
      ],
      "metadata": {
        "id": "jdqPeVs8ffax"
      },
      "execution_count": null,
      "outputs": []
    },
    {
      "cell_type": "code",
      "source": [
        "#Posicion venus\n",
        "PosicionPlaneta(venusDistance, venusTaken, year, month, day)"
      ],
      "metadata": {
        "id": "hA6sPl-UqR-c"
      },
      "execution_count": null,
      "outputs": []
    },
    {
      "cell_type": "code",
      "source": [
        "#Posicion saturn\n",
        "PosicionPlaneta(saturnDistance, saturnTaken, year, month, day)"
      ],
      "metadata": {
        "id": "f2xQTCJ0qSEJ"
      },
      "execution_count": null,
      "outputs": []
    },
    {
      "cell_type": "code",
      "source": [
        "#Posicion uranus\n",
        "PosicionPlaneta(uranusDistance, uranusTaken, year, month, day)"
      ],
      "metadata": {
        "id": "9EybQ9v9qSIZ"
      },
      "execution_count": null,
      "outputs": []
    },
    {
      "cell_type": "code",
      "source": [
        "#Posicion neptune\n",
        "PosicionPlaneta(neptuneDistance, neptuneTaken, year, month, day)"
      ],
      "metadata": {
        "id": "ioDqKWL8qjZj"
      },
      "execution_count": null,
      "outputs": []
    },
    {
      "cell_type": "code",
      "source": [],
      "metadata": {
        "id": "fceiZSkqqjiq"
      },
      "execution_count": null,
      "outputs": []
    }
  ]
}